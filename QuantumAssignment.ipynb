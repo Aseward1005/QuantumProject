{
 "cells": [
  {
   "cell_type": "markdown",
   "id": "771c5d64",
   "metadata": {},
   "source": [
    "# Using the Bernstein-Vazirani Algorithm to Cheat at Mastermind"
   ]
  },
  {
   "cell_type": "markdown",
   "id": "8f406742",
   "metadata": {},
   "source": [
    "Mastermind is a game typically played between two humans. It is played as follows:\n",
    "\n",
    "1. The players choose between being codemaker and codebreaker\n",
    "2. The codemaker picks a string of colors, typically 4 wide\n",
    "3. The codebreaker picks a string of colors the same length as the codemaker's\n",
    "4. The codemaker tells the codebreaker how many of the colors are correct and in the right place, correct in the wrong place, and incorrect\n",
    "5. Repeat until the codebreaker finally guesses the code\n",
    "6. Switch sides\n",
    "\n",
    "The winner is the player that guesses correctly in less tries"
   ]
  },
  {
   "cell_type": "code",
   "execution_count": 1,
   "id": "6795c123",
   "metadata": {},
   "outputs": [],
   "source": [
    "import qiskit\n",
    "\n",
    "from qiskit import QuantumCircuit, QuantumRegister, ClassicalRegister, execute, BasicAer\n",
    "\n",
    "from IPython.display import clear_output"
   ]
  },
  {
   "cell_type": "markdown",
   "id": "d5c47627",
   "metadata": {},
   "source": [
    "First, encode the game in terms of binary numbers to make it easier to analyze for the computer.\n",
    "lets say we have two different colors we can choose from, black and white. Black is 1, white is 0"
   ]
  },
  {
   "cell_type": "code",
   "execution_count": 2,
   "id": "cdbb9eed",
   "metadata": {},
   "outputs": [],
   "source": [
    "black = '1'\n",
    "white = '0'"
   ]
  },
  {
   "cell_type": "markdown",
   "id": "77f8934f",
   "metadata": {},
   "source": [
    "Now we create a codemaker class and allow it to set the code and retrieve the code"
   ]
  },
  {
   "cell_type": "code",
   "execution_count": 3,
   "id": "47f60328",
   "metadata": {},
   "outputs": [],
   "source": [
    "class codemaker():\n",
    "    def __init__(self):\n",
    "        self.code = ''\n",
    "    \n",
    "    def setCode(self, code):\n",
    "        self.code = ''\n",
    "        for i in range(len(code)):\n",
    "            self.code = self.code + code[i]\n",
    "        \n",
    "    def getCode(self):\n",
    "        return self.code"
   ]
  },
  {
   "cell_type": "markdown",
   "id": "aa415b0c",
   "metadata": {},
   "source": [
    "To ensure the codemaker isn't cheating, we will give the the string to an encoder. The encoder will be the one giving the hints, so we can modify it to give different hints and change the rules of the game, as well as encode the data in a way that allows our quantum computer to play as well"
   ]
  },
  {
   "cell_type": "markdown",
   "id": "fbd643ac",
   "metadata": {},
   "source": [
    "The rules we will use for hints are: if the string is correct, say it is correct. otherwise, tell if the number of correct black spots are even or odd (0 counts as even)"
   ]
  },
  {
   "cell_type": "code",
   "execution_count": 4,
   "id": "a4a89d10",
   "metadata": {},
   "outputs": [],
   "source": [
    "class QuantumEncoder():\n",
    "    def __init__(self):\n",
    "        self.code = ''\n",
    "    def encode(self, code):\n",
    "        self.code = code\n",
    "        \n",
    "        length = len(code)\n",
    "        qc = QuantumCircuit(length+1, length)\n",
    "        \n",
    "        #every correct black spot flips the extra qubit, reading the last qubit tells odd or even\n",
    "        for i, value in enumerate(reversed(code)):\n",
    "            if value == '1':\n",
    "                qc.cx(i, len(code))\n",
    "                \n",
    "        return qc\n",
    "    \n",
    "    def check(self, input):\n",
    "        odd = False\n",
    "        #flip for every black spot\n",
    "        for i, value in enumerate(self.code):\n",
    "            if value == '1' and input[i] == '1':\n",
    "                odd = !odd\n",
    "              \n",
    "        #return the hint and if the guess is true\n",
    "        return odd, self.code == input"
   ]
  },
  {
   "cell_type": "code",
   "execution_count": 5,
   "id": "a4f4254c",
   "metadata": {},
   "outputs": [],
   "source": [
    "#use the bernstein-vazirani algorithm to get the correct answer\n",
    "class QuantumGuesser():\n",
    "    def __init__(self, backend, shots):\n",
    "        self.backend = backend\n",
    "        self.shots = shots\n",
    "        \n",
    "    def guess(self, code): #code is the encoded circuit, not the actual code\n",
    "        qc = QuantumCircuit(code.num_qubits, code.num_clbits)\n",
    "        \n",
    "        #flip the hint bit\n",
    "        qc.x(code.num_qubits - 1)\n",
    "        \n",
    "        #place the qubits in equal superposition\n",
    "        qc.h(range(code.num_qubits))\n",
    "        qc.barrier()\n",
    "        \n",
    "        #hook up to the encoder network to retrieve your hint\n",
    "        qc = qc.compose(code)\n",
    "        qc.barrier()\n",
    "        \n",
    "        #resolve the superposition \n",
    "        qc.h(range(code.num_qubits))\n",
    "        qc.barrier()\n",
    "        \n",
    "        #print(qc)\n",
    "        \n",
    "        #measure\n",
    "        qc.measure(range(code.num_qubits - 1), range(code.num_clbits))\n",
    "        \n",
    "        return execute(qc, backend = self.backend, shots = self.shots).result().get_counts().most_frequent()"
   ]
  },
  {
   "cell_type": "markdown",
   "id": "1d239ffc",
   "metadata": {},
   "source": [
    "Now we actually play the game. This will be a human vs a quantum computer. In practice, the human should do much worse than the quantum computer at guessing."
   ]
  },
  {
   "cell_type": "code",
   "execution_count": 6,
   "id": "ac0f5062",
   "metadata": {},
   "outputs": [],
   "source": [
    "#have the human set the code\n",
    "#bit of inheritance\n",
    "class HumanSetter(codemaker):\n",
    "    def __init__(self):\n",
    "        super().__init__()\n",
    "    def setCode(self, length):\n",
    "\n",
    "        code = []\n",
    "        for i in range(length):\n",
    "            code.append(input('0/1? '))\n",
    "#removed the colors thing to make the game more generalizable at the end\n",
    "#        for i in range(length):\n",
    "#            if code[i] == 'b':\n",
    "#                code[i] = black\n",
    "#            else:\n",
    "#                code[i] = white\n",
    "        \n",
    "        super().setCode(code)\n",
    "        clear_output()"
   ]
  },
  {
   "cell_type": "code",
   "execution_count": 7,
   "id": "19e8b095",
   "metadata": {},
   "outputs": [],
   "source": [
    "#have the human set the code\n",
    "p1 = HumanSetter()\n",
    "p1.setCode(length = int(input('how long of a string? (numerical value)')))"
   ]
  },
  {
   "cell_type": "code",
   "execution_count": 8,
   "id": "6d20e25d",
   "metadata": {},
   "outputs": [],
   "source": [
    "#encode the data so the quantum computer can play\n",
    "#a fun side effect from using python is that we get rid of the original \n",
    "encoder = QuantumEncoder()\n",
    "\n",
    "code = encoder.encode(p1.getCode())"
   ]
  },
  {
   "cell_type": "code",
   "execution_count": 9,
   "id": "1ae7f7de",
   "metadata": {},
   "outputs": [],
   "source": [
    "#we can print the code just to show how it is encoded\n",
    "input('press enter to show')\n",
    "print(code)\n",
    "input('press enter to stop showing')\n",
    "clear_output()"
   ]
  },
  {
   "cell_type": "code",
   "execution_count": 10,
   "id": "d169b40c",
   "metadata": {},
   "outputs": [
    {
     "name": "stdout",
     "output_type": "stream",
     "text": [
      "attempt: 1\n",
      "you found it, the code was: 1010\n"
     ]
    }
   ],
   "source": [
    "#guess and adjust based on the hints\n",
    "backend = BasicAer.get_backend('qasm_simulator')\n",
    "p2 = QuantumGuesser(backend, 1)\n",
    "\n",
    "attempts = 1\n",
    "\n",
    "print(f'attempt: {attempts}')\n",
    "guess = p2.guess(code)\n",
    "\n",
    "hint, correct = encoder.check(guess)\n",
    "\n",
    "while (not correct):\n",
    "    print('incorrect guess')\n",
    "    print(f'number of correct black guesses is {\"odd\" if hint else \"even\"}')\n",
    "    \n",
    "    attempts = attempts + 1\n",
    "    print(f'attempt: {attempts}')\n",
    "    guess = p2.guess(code)\n",
    "    \n",
    "    hint, correct = encoder.check(guess)\n",
    "    \n",
    "print(f'you found it, the code was: {p1.getCode()}')"
   ]
  },
  {
   "cell_type": "markdown",
   "id": "fdb7d407",
   "metadata": {},
   "source": [
    "For fun, the quantum computer can also play the role of the codemaster"
   ]
  },
  {
   "cell_type": "code",
   "execution_count": 13,
   "id": "efa185b4",
   "metadata": {},
   "outputs": [],
   "source": [
    "class QuantumSetter(codemaker):\n",
    "    def __init__(self, backend, shots):\n",
    "        super().__init__()\n",
    "        self.backend = backend\n",
    "        self.shots = shots\n",
    "        \n",
    "    def setCode(self, length):\n",
    "        qc = QuantumCircuit(length, length)\n",
    "        \n",
    "        qc.h(range(length))\n",
    "        qc.measure(range(length), range(length))\n",
    "        self.code = execute(qc, backend = self.backend, shots = self.shots).result().get_counts().most_frequent()"
   ]
  },
  {
   "cell_type": "code",
   "execution_count": 18,
   "id": "1b1e5a3e",
   "metadata": {},
   "outputs": [
    {
     "name": "stdout",
     "output_type": "stream",
     "text": [
      "1011\n"
     ]
    }
   ],
   "source": [
    "#testing\n",
    "p3 = QuantumSetter(backend, 1)\n",
    "p3.setCode(4)\n",
    "print(p3.getCode())"
   ]
  },
  {
   "cell_type": "markdown",
   "id": "83d02018",
   "metadata": {},
   "source": [
    "It works, quantum random number generators are actually easier to work with, you don't need to seed them or think of an algorithm, just apply an H gate"
   ]
  },
  {
   "cell_type": "code",
   "execution_count": 19,
   "id": "4743913e",
   "metadata": {},
   "outputs": [],
   "source": [
    "#Define a human player so we can switch sides\n",
    "class HumanGuesser():\n",
    "    def guess(self, code):\n",
    "        length = code.num_clbits\n",
    "        guessLen = 0\n",
    "        \n",
    "        #check that the length of the guess is correct so something doesn't break later\n",
    "        while (guessLen != length):\n",
    "            humanGuess = input(f'Make a guess (len:{length})')\n",
    "            guessLen = len(humanGuess)\n",
    "            \n",
    "        return humanGuess"
   ]
  },
  {
   "cell_type": "markdown",
   "id": "51ee1c6e",
   "metadata": {},
   "source": [
    "All the pieces are in place, now we can define the game as a class"
   ]
  },
  {
   "cell_type": "markdown",
   "id": "9e42eb3f",
   "metadata": {},
   "source": [
    "This is easier if the human guesser is guessing a string of 1's and 0's, so while setting is with b/w, guessing is actually with 0/1"
   ]
  },
  {
   "cell_type": "code",
   "execution_count": 22,
   "id": "22c13815",
   "metadata": {},
   "outputs": [],
   "source": [
    "class Game():\n",
    "    def __init__(self, setter, guesser, encoder):\n",
    "        self.p1 = setter\n",
    "        self.p2 = guesser\n",
    "        self.encoder = encoder\n",
    "        \n",
    "    def play(self):\n",
    "        #set the code\n",
    "        length = int(input('how long of a string? (numerical value): '))\n",
    "        self.p1.setCode(length)\n",
    "        \n",
    "        #encode the code with the rules defined by the encoder\n",
    "        code = self.encoder.encode(self.p1.getCode())\n",
    "        \n",
    "        #track how many times it takes to guess the code\n",
    "        attempts = 1\n",
    "\n",
    "        print(f'attempt: {attempts}')\n",
    "        guess = self.p2.guess(code)\n",
    "    \n",
    "        hint, correct = self.encoder.check(guess)\n",
    "\n",
    "        while (not correct):\n",
    "            print('incorrect guess')\n",
    "            print(f'number of correct black guesses is {\"odd\" if hint else \"even\"}\\n')\n",
    "    \n",
    "            attempts = attempts + 1\n",
    "            print(f'attempt: {attempts}')\n",
    "            guess = self.p2.guess(code)\n",
    "    \n",
    "            hint, correct = self.encoder.check(guess)\n",
    "            \n",
    "    \n",
    "        print(f'you found it, the code was: {p1.getCode()}')"
   ]
  },
  {
   "cell_type": "code",
   "execution_count": null,
   "id": "f91a3f6b",
   "metadata": {},
   "outputs": [
    {
     "name": "stdout",
     "output_type": "stream",
     "text": [
      "attempt: 1\n"
     ]
    },
    {
     "name": "stdin",
     "output_type": "stream",
     "text": [
      "Make a guess (len:4) 0001\n"
     ]
    },
    {
     "name": "stdout",
     "output_type": "stream",
     "text": [
      "incorrect guess\n",
      "number of correct black guesses is odd\n",
      "\n",
      "attempt: 2\n"
     ]
    },
    {
     "name": "stdin",
     "output_type": "stream",
     "text": [
      "Make a guess (len:4) 0010\n"
     ]
    },
    {
     "name": "stdout",
     "output_type": "stream",
     "text": [
      "incorrect guess\n",
      "number of correct black guesses is odd\n",
      "\n",
      "attempt: 3\n"
     ]
    },
    {
     "name": "stdin",
     "output_type": "stream",
     "text": [
      "Make a guess (len:4) 0100\n"
     ]
    },
    {
     "name": "stdout",
     "output_type": "stream",
     "text": [
      "incorrect guess\n",
      "number of correct black guesses is odd\n",
      "\n",
      "attempt: 4\n"
     ]
    },
    {
     "name": "stdin",
     "output_type": "stream",
     "text": [
      "Make a guess (len:4) 1000\n"
     ]
    },
    {
     "name": "stdout",
     "output_type": "stream",
     "text": [
      "incorrect guess\n",
      "number of correct black guesses is odd\n",
      "\n",
      "attempt: 5\n"
     ]
    }
   ],
   "source": [
    "choice = int(input('select player 1, 0 = quantum, 1 = human: '))\n",
    "if (choice): \n",
    "    p1 = HumanSetter()\n",
    "else:\n",
    "    p1 = QuantumSetter(backend, 1)\n",
    "clear_output()\n",
    "\n",
    "choice = int(input('select player 2, 0 = quantum, 1 = human: '))\n",
    "if choice:\n",
    "    p2 = HumanGuesser()\n",
    "else:\n",
    "    p2 = QuantumGuesser(backend, 1)\n",
    "clear_output()\n",
    "\n",
    "encoder = QuantumEncoder()\n",
    "\n",
    "mastermind = Game(p1, p2, encoder)\n",
    "\n",
    "mastermind.play()"
   ]
  },
  {
   "cell_type": "markdown",
   "id": "3b27c084-c5f8-40ae-b7c1-17abf8cce807",
   "metadata": {},
   "source": [
    "Now to run it on real hardware"
   ]
  },
  {
   "cell_type": "code",
   "execution_count": 43,
   "id": "c9756417-1f44-42a3-ba64-8649ee480665",
   "metadata": {},
   "outputs": [],
   "source": [
    "from qiskit_ibm_runtime import QiskitRuntimeService, Session, Sampler, Options"
   ]
  },
  {
   "cell_type": "code",
   "execution_count": 44,
   "id": "391f2cea-2a44-4ff2-952c-80596f422044",
   "metadata": {},
   "outputs": [],
   "source": [
    "class RealQuantumSetter(codemaker):\n",
    "    def __init__(self, session):\n",
    "        super().__init__()\n",
    "        self.session = session\n",
    "        \n",
    "    def setCode(self, length):\n",
    "        qc = QuantumCircuit(length, length)\n",
    "        \n",
    "        qc.h(range(length))\n",
    "        qc.measure(range(length), range(length))\n",
    "        \n",
    "        sampler = Sampler(session = self.session)\n",
    "        job = sampler.run(qc)\n",
    "        print(f'setter id: {job.job_id()}')\n",
    "        self.code = job.result().get_counts().most_frequent()"
   ]
  },
  {
   "cell_type": "code",
   "execution_count": 45,
   "id": "7463c97e-b1a6-4997-8c63-3c5c8bfdcebf",
   "metadata": {},
   "outputs": [],
   "source": [
    "class RealQuantumGuesser():\n",
    "    def __init__(self, session):\n",
    "        self.session = session\n",
    "    def guess(self, code): #code is the encoded circuit, not the actual code\n",
    "        qc = QuantumCircuit(code.num_qubits, code.num_clbits)\n",
    "        \n",
    "        #flip the hint bit\n",
    "        qc.x(code.num_qubits - 1)\n",
    "        \n",
    "        #place the qubits in equal superposition\n",
    "        qc.h(range(code.num_qubits))\n",
    "        qc.barrier()\n",
    "        \n",
    "        #hook up to the encoder network to retrieve your hint\n",
    "        qc = qc.compose(code)\n",
    "        qc.barrier()\n",
    "        \n",
    "        #resolve the superposition \n",
    "        qc.h(range(code.num_qubits))\n",
    "        qc.barrier()\n",
    "        \n",
    "        #print(qc)\n",
    "        \n",
    "        #measure\n",
    "        qc.measure(range(code.num_qubits - 1), range(code.num_clbits))\n",
    "        \n",
    "        sampler = Sampler(session = self.session)\n",
    "        job = sampler.run(qc)\n",
    "        print(f'guesser id: {job.job_id()}')\n",
    "        \n",
    "        return job.result().get_counts().most_frequent()"
   ]
  },
  {
   "cell_type": "code",
   "execution_count": 46,
   "id": "95239cef-4c3a-48b1-8ea0-a824bcc02814",
   "metadata": {},
   "outputs": [
    {
     "data": {
      "text/plain": [
       "<IBMBackend('ibmq_belem')>"
      ]
     },
     "execution_count": 46,
     "metadata": {},
     "output_type": "execute_result"
    }
   ],
   "source": [
    "service = QiskitRuntimeService()\n",
    "service.least_busy(simulator = False, operational=True, min_num_qubits=5)"
   ]
  },
  {
   "cell_type": "markdown",
   "id": "67a6f4c7-0af4-44e8-bc8f-f8389d8579fd",
   "metadata": {},
   "source": [
    "Even though belem is the least busy, it takes 11 hours, I am going to use quito because it was recommended to me by a classmate"
   ]
  },
  {
   "cell_type": "code",
   "execution_count": 50,
   "id": "853319f6-8e13-4b02-be9b-5ce74f9fe6ab",
   "metadata": {},
   "outputs": [
    {
     "name": "stdin",
     "output_type": "stream",
     "text": [
      "how long of a string? (numerical value):  4\n"
     ]
    },
    {
     "name": "stdout",
     "output_type": "stream",
     "text": [
      "attempt: 1\n",
      "guesser id: cee5755iubo7eglamao0\n",
      "Traceback \u001b[1;36m(most recent call last)\u001b[0m:\n",
      "  Input \u001b[0;32mIn [50]\u001b[0m in \u001b[0;35m<cell line: 1>\u001b[0m\n",
      "    quantumGame.play()\n",
      "  Input \u001b[0;32mIn [35]\u001b[0m in \u001b[0;35mplay\u001b[0m\n",
      "    guess = self.p2.guess(code)\n",
      "\u001b[1;36m  Input \u001b[1;32mIn [45]\u001b[1;36m in \u001b[1;35mguess\u001b[1;36m\u001b[0m\n",
      "\u001b[1;33m    return job.result().get_counts().most_frequent()\u001b[0m\n",
      "\u001b[1;31mAttributeError\u001b[0m\u001b[1;31m:\u001b[0m 'SamplerResult' object has no attribute 'get_counts'\n",
      "\n",
      "Use %tb to get the full traceback.\n"
     ]
    },
    {
     "data": {
      "text/html": [
       "\n",
       "<style>\n",
       ".button {\n",
       "  border: none;\n",
       "  color: white;\n",
       "  padding: 4px 8px;\n",
       "  text-align: center;\n",
       "  text-decoration: none;\n",
       "  display: inline-block;\n",
       "  font-size: 12px;\n",
       "  margin: 4px 2px;\n",
       "  transition-duration: 0.2s;\n",
       "  cursor: pointer;\n",
       "}\n",
       ".iqx-button {\n",
       "  background-color: #0f62fe; \n",
       "  color: white; \n",
       "}\n",
       ".iqx-button:hover {\n",
       "  background-color: #0043ce;\n",
       "  color: white;\n",
       "}\n",
       "</style>\n",
       "<a href=\"https://stackoverflow.com/search?q=AttributeError: 'SamplerResult' object has no attribute 'get_counts'\" target='_blank'><button class='button iqx-button'>Search for solution online</button></a>\n"
      ],
      "text/plain": [
       "<IPython.core.display.HTML object>"
      ]
     },
     "metadata": {},
     "output_type": "display_data"
    }
   ],
   "source": [
    "with Session(service=service, backend = 'ibmq_manila') as session:\n",
    "    p1 = QuantumSetter(BasicAer.get_backend('qasm_simulator'), 1) #i tried the real setter, it gave basically equal everything. Makes sense\n",
    "    p2 = RealQuantumGuesser(session)\n",
    "    encoder = QuantumEncoder()\n",
    "    \n",
    "    quantumGame = Game(p1, p2, encoder)\n",
    "    \n",
    "    quantumGame.play()"
   ]
  },
  {
   "cell_type": "code",
   "execution_count": null,
   "id": "61be3e3c-f486-4d29-9e18-0b5e0ec15a9f",
   "metadata": {},
   "outputs": [],
   "source": []
  }
 ],
 "metadata": {
  "kernelspec": {
   "display_name": "Python 3 (ipykernel)",
   "language": "python",
   "name": "python3"
  },
  "language_info": {
   "codemirror_mode": {
    "name": "ipython",
    "version": 3
   },
   "file_extension": ".py",
   "mimetype": "text/x-python",
   "name": "python",
   "nbconvert_exporter": "python",
   "pygments_lexer": "ipython3",
   "version": "3.8.13"
  },
  "widgets": {
   "application/vnd.jupyter.widget-state+json": {
    "state": {},
    "version_major": 2,
    "version_minor": 0
   }
  }
 },
 "nbformat": 4,
 "nbformat_minor": 5
}
